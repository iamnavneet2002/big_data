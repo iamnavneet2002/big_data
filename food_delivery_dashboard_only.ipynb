{
 "cells": [
  {
   "cell_type": "markdown",
   "id": "c01d8b3c",
   "metadata": {},
   "source": [
    "# 📈 Food Delivery - Dashboard Notebook"
   ]
  },
  {
   "cell_type": "code",
   "execution_count": null,
   "id": "47ebcba7",
   "metadata": {},
   "outputs": [],
   "source": [
    "\n",
    "import matplotlib.pyplot as plt\n",
    "import pandas as pd\n",
    "from pyspark.sql.functions import unix_timestamp\n",
    "\n",
    "# Load and prepare DataFrame\n",
    "df = spark.read.csv(\"/FileStore/tables/24MBMA47_order.csv\", header=True, inferSchema=True)\n",
    "df2 = df.withColumn(\"delivery_duration\",\n",
    "                    unix_timestamp(\"delivery_time\") - unix_timestamp(\"order_time\"))\n",
    "\n",
    "# Convert to Pandas\n",
    "orders_pd = df.toPandas()\n",
    "orders_pd['order_time'] = pd.to_datetime(orders_pd['order_time'])\n",
    "orders_pd['order_hour'] = orders_pd['order_time'].dt.hour\n",
    "df2_pd = df2.toPandas()\n"
   ]
  },
  {
   "cell_type": "markdown",
   "id": "e86d379b",
   "metadata": {},
   "source": [
    "## 📊 Charts"
   ]
  },
  {
   "cell_type": "code",
   "execution_count": null,
   "id": "19230a54",
   "metadata": {},
   "outputs": [],
   "source": [
    "\n",
    "# Peak Order Hours\n",
    "orders_pd['order_hour'].value_counts().sort_index().plot(kind='bar', figsize=(8,5))\n",
    "plt.xlabel(\"Hour of Day\")\n",
    "plt.ylabel(\"Number of Orders\")\n",
    "plt.title(\"Peak Order Hours\")\n",
    "plt.show()\n"
   ]
  },
  {
   "cell_type": "code",
   "execution_count": null,
   "id": "fc2f5784",
   "metadata": {},
   "outputs": [],
   "source": [
    "\n",
    "# Top 10 Customers by Spending\n",
    "customer_spending = orders_pd.groupby(\"customer_id\")[\"order_amount\"].sum().sort_values(ascending=False).head(10)\n",
    "customer_spending.plot(kind='bar', figsize=(8,5))\n",
    "plt.xlabel(\"Customer ID\")\n",
    "plt.ylabel(\"Total Spending\")\n",
    "plt.title(\"Top 10 Customers by Total Spending\")\n",
    "plt.show()\n"
   ]
  },
  {
   "cell_type": "code",
   "execution_count": null,
   "id": "2b42971b",
   "metadata": {},
   "outputs": [],
   "source": [
    "\n",
    "# Average Delivery Time per Partner\n",
    "avg_time = df2_pd.groupby(\"delivery_partner_id\")[\"delivery_duration\"].mean().sort_values()\n",
    "avg_time.plot(kind='bar', figsize=(8,5))\n",
    "plt.xlabel(\"Delivery Partner\")\n",
    "plt.ylabel(\"Avg Delivery Time (seconds)\")\n",
    "plt.title(\"Average Delivery Time per Partner\")\n",
    "plt.show()\n"
   ]
  }
 ],
 "metadata": {},
 "nbformat": 4,
 "nbformat_minor": 5
}