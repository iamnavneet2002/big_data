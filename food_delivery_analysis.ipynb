{
 "cells": [
  {
   "cell_type": "markdown",
   "id": "c64f9780",
   "metadata": {},
   "source": [
    "# 📊 Food Delivery Analysis in Databricks"
   ]
  },
  {
   "cell_type": "code",
   "execution_count": null,
   "id": "17deaf55",
   "metadata": {},
   "outputs": [],
   "source": [
    "\n",
    "# Load CSV into Spark DataFrame\n",
    "df = spark.read.csv(\"/FileStore/tables/24MBMA47_order.csv\", header=True, inferSchema=True)\n",
    "\n",
    "# Show sample rows\n",
    "df.show(5)\n",
    "\n",
    "# Print schema\n",
    "df.printSchema()\n"
   ]
  },
  {
   "cell_type": "code",
   "execution_count": null,
   "id": "41030160",
   "metadata": {},
   "outputs": [],
   "source": [
    "\n",
    "# Register DataFrame as SQL table\n",
    "df.createOrReplaceTempView(\"orders\")\n"
   ]
  },
  {
   "cell_type": "markdown",
   "id": "0eb97b2b",
   "metadata": {},
   "source": [
    "## 🔍 Analysis Queries"
   ]
  },
  {
   "cell_type": "code",
   "execution_count": null,
   "id": "2e3a9a4c",
   "metadata": {},
   "outputs": [],
   "source": [
    "\n",
    "# Total Order Value per Customer\n",
    "spark.sql(\"\"\"\n",
    "SELECT customer_id, SUM(order_amount) AS total_spent\n",
    "FROM orders\n",
    "GROUP BY customer_id\n",
    "ORDER BY total_spent DESC\n",
    "\"\"\" ).show()\n"
   ]
  },
  {
   "cell_type": "code",
   "execution_count": null,
   "id": "bfa75360",
   "metadata": {},
   "outputs": [],
   "source": [
    "\n",
    "# Average Delivery Time per Partner\n",
    "from pyspark.sql.functions import unix_timestamp, col, avg\n",
    "\n",
    "df2 = df.withColumn(\"delivery_duration\",\n",
    "                    unix_timestamp(\"delivery_time\") - unix_timestamp(\"order_time\"))\n",
    "\n",
    "df2.groupBy(\"delivery_partner_id\").agg(avg(\"delivery_duration\").alias(\"avg_delivery_time\")).show()\n"
   ]
  },
  {
   "cell_type": "code",
   "execution_count": null,
   "id": "d52d5243",
   "metadata": {},
   "outputs": [],
   "source": [
    "\n",
    "# Customers with Frequent Cancellations\n",
    "spark.sql(\"\"\"\n",
    "SELECT customer_id, COUNT(*) AS cancellations\n",
    "FROM orders\n",
    "WHERE order_status = 'Cancelled'\n",
    "GROUP BY customer_id\n",
    "HAVING COUNT(*) > 1\n",
    "\"\"\" ).show()\n"
   ]
  },
  {
   "cell_type": "code",
   "execution_count": null,
   "id": "abf272ba",
   "metadata": {},
   "outputs": [],
   "source": [
    "\n",
    "# Peak Order Hours\n",
    "spark.sql(\"\"\"\n",
    "SELECT HOUR(order_time) AS order_hour, COUNT(*) AS total_orders\n",
    "FROM orders\n",
    "GROUP BY HOUR(order_time)\n",
    "ORDER BY total_orders DESC\n",
    "\"\"\" ).show()\n"
   ]
  },
  {
   "cell_type": "markdown",
   "id": "d738679d",
   "metadata": {},
   "source": [
    "## 📈 Visualizations"
   ]
  },
  {
   "cell_type": "code",
   "execution_count": null,
   "id": "61c89b95",
   "metadata": {},
   "outputs": [],
   "source": [
    "\n",
    "import matplotlib.pyplot as plt\n",
    "import pandas as pd\n",
    "\n",
    "# Convert to Pandas for visualization\n",
    "orders_pd = df.toPandas()\n",
    "orders_pd['order_hour'] = pd.to_datetime(orders_pd['order_time']).dt.hour\n",
    "\n",
    "# Peak Order Hours\n",
    "orders_pd['order_hour'].value_counts().sort_index().plot(kind='bar', figsize=(8,5))\n",
    "plt.xlabel(\"Hour of Day\")\n",
    "plt.ylabel(\"Number of Orders\")\n",
    "plt.title(\"Peak Order Hours\")\n",
    "plt.show()\n"
   ]
  },
  {
   "cell_type": "code",
   "execution_count": null,
   "id": "3216fa75",
   "metadata": {},
   "outputs": [],
   "source": [
    "\n",
    "# Customer Spending (Top 10)\n",
    "customer_spending = orders_pd.groupby(\"customer_id\")[\"order_amount\"].sum().sort_values(ascending=False).head(10)\n",
    "\n",
    "customer_spending.plot(kind='bar', figsize=(8,5))\n",
    "plt.xlabel(\"Customer ID\")\n",
    "plt.ylabel(\"Total Spending\")\n",
    "plt.title(\"Top 10 Customers by Total Spending\")\n",
    "plt.show()\n"
   ]
  },
  {
   "cell_type": "code",
   "execution_count": null,
   "id": "790f6bab",
   "metadata": {},
   "outputs": [],
   "source": [
    "\n",
    "# Average Delivery Time per Partner\n",
    "df2_pd = df2.toPandas()\n",
    "avg_time = df2_pd.groupby(\"delivery_partner_id\")[\"delivery_duration\"].mean().sort_values()\n",
    "\n",
    "avg_time.plot(kind='bar', figsize=(8,5))\n",
    "plt.xlabel(\"Delivery Partner\")\n",
    "plt.ylabel(\"Avg Delivery Time (seconds)\")\n",
    "plt.title(\"Average Delivery Time per Partner\")\n",
    "plt.show()\n"
   ]
  },
  {
   "cell_type": "markdown",
   "id": "a6fe173f",
   "metadata": {},
   "source": [
    "## 💾 Export Results (Optional)"
   ]
  },
  {
   "cell_type": "code",
   "execution_count": null,
   "id": "2a46fd5c",
   "metadata": {},
   "outputs": [],
   "source": [
    "\n",
    "# Save customer spending result to DBFS\n",
    "df.groupBy(\"customer_id\").sum(\"order_amount\") \\\n",
    "\n",
    "  .toPandas().to_csv(\"/dbfs/FileStore/output/customer_spending.csv\", index=False)\n"
   ]
  }
 ],
 "metadata": {},
 "nbformat": 4,
 "nbformat_minor": 5
}